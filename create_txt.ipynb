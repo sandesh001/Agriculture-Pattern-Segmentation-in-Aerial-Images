{
 "cells": [
  {
   "cell_type": "code",
   "execution_count": 1,
   "id": "2c506323",
   "metadata": {},
   "outputs": [
    {
     "name": "stdout",
     "output_type": "stream",
     "text": [
      "train_rgb: 12901\n",
      "train_nir: 12901\n",
      "val_rgb: 4431\n",
      "val_nir: 4431\n",
      "test_rgb 3729\n",
      "test_nir 3729\n"
     ]
    }
   ],
   "source": [
    "import os\n",
    "train_rgb = os.listdir('/home/sandesh/Desktop/Agriculture Vision/dataset/train/images/rgb')\n",
    "train_nir = os.listdir('/home/sandesh/Desktop/Agriculture Vision/dataset/train/images/nir')\n",
    "print('train_rgb:',len(train_rgb))\n",
    "print('train_nir:',len(train_nir))\n",
    "val_rgb = os.listdir('/home/sandesh/Desktop/Agriculture Vision/dataset/val/images/rgb')\n",
    "val_nir = os.listdir('/home/sandesh/Desktop/Agriculture Vision/dataset/val/images/nir')\n",
    "print('val_rgb:',len(val_rgb))\n",
    "print('val_nir:',len(val_nir))\n",
    "test_rgb = os.listdir('/home/sandesh/Desktop/Agriculture Vision/dataset/test/images/rgb')\n",
    "test_nir = os.listdir('/home/sandesh/Desktop/Agriculture Vision/dataset/test/images/nir')\n",
    "print('test_rgb',len(test_rgb))\n",
    "print('test_nir',len(test_nir)) "
   ]
  },
  {
   "cell_type": "code",
   "execution_count": 2,
   "id": "691c8dab",
   "metadata": {},
   "outputs": [
    {
     "data": {
      "text/plain": [
       "['weed_cluster',\n",
       " 'double_plant',\n",
       " 'waterway',\n",
       " 'planter_skip',\n",
       " 'cloud_shadow',\n",
       " 'standing_water']"
      ]
     },
     "execution_count": 2,
     "metadata": {},
     "output_type": "execute_result"
    }
   ],
   "source": [
    "\n",
    "class_names = os.listdir('/home/sandesh/Desktop/Agriculture Vision/dataset/val/labels/')\n",
    "\n",
    "class_names\n",
    "\n"
   ]
  },
  {
   "cell_type": "code",
   "execution_count": 38,
   "id": "96aa7354",
   "metadata": {},
   "outputs": [
    {
     "name": "stdout",
     "output_type": "stream",
     "text": [
      "TCK29494G_2524-4321-3036-4833.png\n"
     ]
    },
    {
     "data": {
      "application/vnd.jupyter.widget-view+json": {
       "model_id": "6e275f1ece9b442eafb29a1c29c5de9f",
       "version_major": 2,
       "version_minor": 0
      },
      "text/plain": [
       "  0%|          | 0/4431 [00:00<?, ?it/s]"
      ]
     },
     "metadata": {},
     "output_type": "display_data"
    },
    {
     "name": "stdout",
     "output_type": "stream",
     "text": [
      "TCK29494G_2524-4321-3036-4833.png\n"
     ]
    },
    {
     "data": {
      "application/vnd.jupyter.widget-view+json": {
       "model_id": "ad0cb63e27704e9ea2c3850885986ad0",
       "version_major": 2,
       "version_minor": 0
      },
      "text/plain": [
       "  0%|          | 0/4431 [00:00<?, ?it/s]"
      ]
     },
     "metadata": {},
     "output_type": "display_data"
    },
    {
     "name": "stdout",
     "output_type": "stream",
     "text": [
      "TCK29494G_2524-4321-3036-4833.png\n"
     ]
    },
    {
     "data": {
      "application/vnd.jupyter.widget-view+json": {
       "model_id": "24f2a04398c54f14b542162b577f5a67",
       "version_major": 2,
       "version_minor": 0
      },
      "text/plain": [
       "  0%|          | 0/4431 [00:00<?, ?it/s]"
      ]
     },
     "metadata": {},
     "output_type": "display_data"
    },
    {
     "name": "stdout",
     "output_type": "stream",
     "text": [
      "TCK29494G_2524-4321-3036-4833.png\n"
     ]
    },
    {
     "data": {
      "application/vnd.jupyter.widget-view+json": {
       "model_id": "8bdfe44e74874ef1b8ae2877515c0ea0",
       "version_major": 2,
       "version_minor": 0
      },
      "text/plain": [
       "  0%|          | 0/4431 [00:00<?, ?it/s]"
      ]
     },
     "metadata": {},
     "output_type": "display_data"
    },
    {
     "name": "stdout",
     "output_type": "stream",
     "text": [
      "TCK29494G_2524-4321-3036-4833.png\n"
     ]
    },
    {
     "data": {
      "application/vnd.jupyter.widget-view+json": {
       "model_id": "c224c3ed145e4edabd4c56047536ff28",
       "version_major": 2,
       "version_minor": 0
      },
      "text/plain": [
       "  0%|          | 0/4431 [00:00<?, ?it/s]"
      ]
     },
     "metadata": {},
     "output_type": "display_data"
    },
    {
     "name": "stdout",
     "output_type": "stream",
     "text": [
      "TCK29494G_2524-4321-3036-4833.png\n"
     ]
    },
    {
     "data": {
      "application/vnd.jupyter.widget-view+json": {
       "model_id": "d9224df2d52f4771afb0581ae68d9a23",
       "version_major": 2,
       "version_minor": 0
      },
      "text/plain": [
       "  0%|          | 0/4431 [00:00<?, ?it/s]"
      ]
     },
     "metadata": {},
     "output_type": "display_data"
    }
   ],
   "source": [
    "import os\n",
    "import numpy as np\n",
    "import matplotlib.pyplot as plt\n",
    "from tqdm.notebook import tqdm\n",
    "\n",
    "'''\n",
    "2021\n",
    "nutrient_deficiency = []\n",
    "endrow = []\n",
    "water = []\n",
    "weed_cluster = []\n",
    "double_plant = []\n",
    "waterway = []\n",
    "planter_skip = []\n",
    "#boundaries = []\n",
    "storm_damage = []\n",
    "drydown = []\n",
    "'''\n",
    "#Create labels for validation.txt\n",
    "weed_cluster = []\n",
    "double_plant = []\n",
    "waterway = []\n",
    "planter_skip = []\n",
    "cloud_shadow = []\n",
    "standing_water = []\n",
    "\n",
    "total_list = [weed_cluster,double_plant,waterway ,planter_skip  , cloud_shadow,standing_water ]\n",
    "\n",
    "class_names = os.listdir('/home/sandesh/Desktop/Agriculture Vision/dataset/val/labels/')\n",
    "\n",
    "for cl_name in range(len(class_names)):\n",
    "    cl = os.listdir('/home/sandesh/Desktop/Agriculture Vision/dataset/val/labels/'+str(class_names[cl_name])+'/')\n",
    "    print(cl[0])\n",
    "    for c in tqdm(cl):\n",
    "        cl_img = plt.imread('/home/sandesh/Desktop/Agriculture Vision/dataset/val/labels/'+ str(class_names[cl_name]) +'/'+c)\n",
    "        if len(np.unique(cl_img)) == 2:\n",
    "               total_list[cl_name].append(c)\n",
    "           \n",
    "\n"
   ]
  },
  {
   "cell_type": "code",
   "execution_count": 39,
   "id": "8236bb8d",
   "metadata": {},
   "outputs": [
    {
     "name": "stdout",
     "output_type": "stream",
     "text": [
      "3164\n",
      "442\n",
      "558\n",
      "52\n",
      "209\n",
      "289\n"
     ]
    }
   ],
   "source": [
    "count = []\n",
    "for cl_name in total_list:\n",
    "    print(len(cl_name))\n",
    "    count.append(len(cl_name))"
   ]
  },
  {
   "cell_type": "code",
   "execution_count": 40,
   "id": "d4a59d0f",
   "metadata": {},
   "outputs": [
    {
     "data": {
      "text/plain": [
       "[3164, 442, 558, 52, 209, 289]"
      ]
     },
     "execution_count": 40,
     "metadata": {},
     "output_type": "execute_result"
    }
   ],
   "source": [
    "count"
   ]
  },
  {
   "cell_type": "code",
   "execution_count": 41,
   "id": "d13405bf",
   "metadata": {},
   "outputs": [
    {
     "data": {
      "image/png": "[encoded data removed]",
      "text/plain": [
       "<Figure size 432x288 with 1 Axes>"
      ]
     },
     "metadata": {
      "needs_background": "light"
     },
     "output_type": "display_data"
    }
   ],
   "source": [
    "import numpy as np                                                               \n",
    "import matplotlib.pyplot as plt\n",
    "\n",
    "top=[('a',count[0]),('c',count[1]),('d',count[2]),('a',count[3]),('c',count[4]),('d',count[5])]\n",
    "\n",
    "labels, ys = zip(*top)\n",
    "xs = np.arange(len(labels)) \n",
    "width = 1\n",
    "\n",
    "\n",
    "\n",
    "plt.bar(xs, ys, width, color=['pink', 'red', 'green', 'blue', 'cyan','yellow'])\n",
    "\n",
    "plt.xticks(xs, labels) #Replace default x-ticks with xs, then replace xs with labels\n",
    "plt.yticks(ys)\n",
    "\n",
    "plt.savefig('netscore.png')"
   ]
  },
  {
   "cell_type": "code",
   "execution_count": 50,
   "id": "99cf428a",
   "metadata": {},
   "outputs": [],
   "source": [
    "\n",
    "train_file = open(class_names[5] +'_val.txt', 'w')\n",
    "\n",
    "for i in total_list[5]:\n",
    "  train_file.write(i[:-4])\n",
    "  train_file.write('\\n')\n",
    "train_file.close()"
   ]
  },
  {
   "cell_type": "code",
   "execution_count": 44,
   "id": "aee6cd58",
   "metadata": {},
   "outputs": [
    {
     "ename": "ValueError",
     "evalue": "I/O operation on closed file.",
     "output_type": "error",
     "traceback": [
      "\u001b[0;31m---------------------------------------------------------------------------\u001b[0m",
      "\u001b[0;31mValueError\u001b[0m                                Traceback (most recent call last)",
      "\u001b[0;32m/tmp/ipykernel_27508/3910575470.py\u001b[0m in \u001b[0;36m<module>\u001b[0;34m\u001b[0m\n\u001b[1;32m      3\u001b[0m     \u001b[0;32mfor\u001b[0m \u001b[0mj\u001b[0m \u001b[0;32min\u001b[0m \u001b[0mrange\u001b[0m\u001b[0;34m(\u001b[0m\u001b[0mlen\u001b[0m\u001b[0;34m(\u001b[0m\u001b[0mtotal_list\u001b[0m\u001b[0;34m)\u001b[0m\u001b[0;34m)\u001b[0m\u001b[0;34m:\u001b[0m\u001b[0;34m\u001b[0m\u001b[0;34m\u001b[0m\u001b[0m\n\u001b[1;32m      4\u001b[0m         \u001b[0;32mfor\u001b[0m \u001b[0mi\u001b[0m \u001b[0;32min\u001b[0m \u001b[0mtotal_list\u001b[0m\u001b[0;34m[\u001b[0m\u001b[0;36m0\u001b[0m\u001b[0;34m]\u001b[0m\u001b[0;34m:\u001b[0m\u001b[0;34m\u001b[0m\u001b[0;34m\u001b[0m\u001b[0m\n\u001b[0;32m----> 5\u001b[0;31m           \u001b[0mtrain_file\u001b[0m\u001b[0;34m.\u001b[0m\u001b[0mwrite\u001b[0m\u001b[0;34m(\u001b[0m\u001b[0mi\u001b[0m\u001b[0;34m[\u001b[0m\u001b[0;34m:\u001b[0m\u001b[0;34m-\u001b[0m\u001b[0;36m4\u001b[0m\u001b[0;34m]\u001b[0m\u001b[0;34m)\u001b[0m\u001b[0;34m\u001b[0m\u001b[0;34m\u001b[0m\u001b[0m\n\u001b[0m\u001b[1;32m      6\u001b[0m           \u001b[0mtrain_file\u001b[0m\u001b[0;34m.\u001b[0m\u001b[0mwrite\u001b[0m\u001b[0;34m(\u001b[0m\u001b[0;34m'\\n'\u001b[0m\u001b[0;34m)\u001b[0m\u001b[0;34m\u001b[0m\u001b[0;34m\u001b[0m\u001b[0m\n\u001b[1;32m      7\u001b[0m         \u001b[0mtrain_file\u001b[0m\u001b[0;34m.\u001b[0m\u001b[0mclose\u001b[0m\u001b[0;34m(\u001b[0m\u001b[0;34m)\u001b[0m\u001b[0;34m\u001b[0m\u001b[0;34m\u001b[0m\u001b[0m\n",
      "\u001b[0;31mValueError\u001b[0m: I/O operation on closed file."
     ]
    }
   ],
   "source": [
    "# bug in below code\n",
    "for cl_name in class_names:\n",
    "    train_file = open(cl_name +'_val.txt', 'w')\n",
    "    for j in range(len(total_list)):\n",
    "        for i in total_list[0]:\n",
    "          train_file.write(i[:-4])\n",
    "          train_file.write('\\n')\n",
    "        train_file.close()"
   ]
  },
  {
   "cell_type": "code",
   "execution_count": 51,
   "id": "2ad443fb",
   "metadata": {},
   "outputs": [
    {
     "name": "stdout",
     "output_type": "stream",
     "text": [
      "NUNZ2EUCC_8136-1279-8648-1791.png\n"
     ]
    },
    {
     "data": {
      "application/vnd.jupyter.widget-view+json": {
       "model_id": "d5932a1593b9400298fbe6b085d64fb5",
       "version_major": 2,
       "version_minor": 0
      },
      "text/plain": [
       "  0%|          | 0/12901 [00:00<?, ?it/s]"
      ]
     },
     "metadata": {},
     "output_type": "display_data"
    },
    {
     "name": "stdout",
     "output_type": "stream",
     "text": [
      "NUNZ2EUCC_8136-1279-8648-1791.png\n"
     ]
    },
    {
     "data": {
      "application/vnd.jupyter.widget-view+json": {
       "model_id": "71758bdbf55f447096da69e8225c2b3d",
       "version_major": 2,
       "version_minor": 0
      },
      "text/plain": [
       "  0%|          | 0/12901 [00:00<?, ?it/s]"
      ]
     },
     "metadata": {},
     "output_type": "display_data"
    },
    {
     "name": "stdout",
     "output_type": "stream",
     "text": [
      "NUNZ2EUCC_8136-1279-8648-1791.png\n"
     ]
    },
    {
     "data": {
      "application/vnd.jupyter.widget-view+json": {
       "model_id": "c1865ca3acac4b8bbd2751f64ac5eb75",
       "version_major": 2,
       "version_minor": 0
      },
      "text/plain": [
       "  0%|          | 0/12901 [00:00<?, ?it/s]"
      ]
     },
     "metadata": {},
     "output_type": "display_data"
    },
    {
     "name": "stdout",
     "output_type": "stream",
     "text": [
      "NUNZ2EUCC_8136-1279-8648-1791.png\n"
     ]
    },
    {
     "data": {
      "application/vnd.jupyter.widget-view+json": {
       "model_id": "4e0dc65222514721b496fabb849cd478",
       "version_major": 2,
       "version_minor": 0
      },
      "text/plain": [
       "  0%|          | 0/12901 [00:00<?, ?it/s]"
      ]
     },
     "metadata": {},
     "output_type": "display_data"
    },
    {
     "name": "stdout",
     "output_type": "stream",
     "text": [
      "NUNZ2EUCC_8136-1279-8648-1791.png\n"
     ]
    },
    {
     "data": {
      "application/vnd.jupyter.widget-view+json": {
       "model_id": "c612dfd37a6b44f6bcda465012b99ae0",
       "version_major": 2,
       "version_minor": 0
      },
      "text/plain": [
       "  0%|          | 0/12901 [00:00<?, ?it/s]"
      ]
     },
     "metadata": {},
     "output_type": "display_data"
    },
    {
     "name": "stdout",
     "output_type": "stream",
     "text": [
      "NUNZ2EUCC_8136-1279-8648-1791.png\n"
     ]
    },
    {
     "data": {
      "application/vnd.jupyter.widget-view+json": {
       "model_id": "66ad6ce05b894343ae9bebe223f5dfbc",
       "version_major": 2,
       "version_minor": 0
      },
      "text/plain": [
       "  0%|          | 0/12901 [00:00<?, ?it/s]"
      ]
     },
     "metadata": {},
     "output_type": "display_data"
    }
   ],
   "source": [
    "import os\n",
    "import numpy as np\n",
    "import matplotlib.pyplot as plt\n",
    "from tqdm.notebook import tqdm\n",
    "\n",
    "'''\n",
    "2021\n",
    "nutrient_deficiency = []\n",
    "endrow = []\n",
    "water = []\n",
    "weed_cluster = []\n",
    "double_plant = []\n",
    "waterway = []\n",
    "planter_skip = []\n",
    "#boundaries = []\n",
    "storm_damage = []\n",
    "drydown = []\n",
    "'''\n",
    "#Create labels for validation.txt\n",
    "weed_cluster = []\n",
    "double_plant = []\n",
    "waterway = []\n",
    "planter_skip = []\n",
    "cloud_shadow = []\n",
    "standing_water = []\n",
    "\n",
    "total_list = [weed_cluster,double_plant,waterway ,planter_skip  , cloud_shadow,standing_water ]\n",
    "\n",
    "class_names = os.listdir('/home/sandesh/Desktop/Agriculture Vision/dataset/train/labels/')\n",
    "\n",
    "for cl_name in range(len(class_names)):\n",
    "    cl = os.listdir('/home/sandesh/Desktop/Agriculture Vision/dataset/train/labels/'+str(class_names[cl_name])+'/')\n",
    "    print(cl[0])\n",
    "    for c in tqdm(cl):\n",
    "        cl_img = plt.imread('/home/sandesh/Desktop/Agriculture Vision/dataset/train/labels/'+ str(class_names[cl_name]) +'/'+c)\n",
    "        if len(np.unique(cl_img)) == 2:\n",
    "               total_list[cl_name].append(c)\n",
    "           "
   ]
  },
  {
   "cell_type": "code",
   "execution_count": 52,
   "id": "e42117a3",
   "metadata": {},
   "outputs": [
    {
     "name": "stdout",
     "output_type": "stream",
     "text": [
      "8890\n",
      "1761\n",
      "1769\n",
      "270\n",
      "931\n",
      "815\n"
     ]
    },
    {
     "data": {
      "image/png": "[encoded data removed]",
      "text/plain": [
       "<Figure size 432x288 with 1 Axes>"
      ]
     },
     "metadata": {
      "needs_background": "light"
     },
     "output_type": "display_data"
    }
   ],
   "source": [
    "count = []\n",
    "for cl_name in total_list:\n",
    "    print(len(cl_name))\n",
    "    count.append(len(cl_name))\n",
    "    \n",
    "import numpy as np                                                               \n",
    "import matplotlib.pyplot as plt\n",
    "\n",
    "top=[('a',count[0]),('c',count[1]),('d',count[2]),('a',count[3]),('c',count[4]),('d',count[5])]\n",
    "\n",
    "labels, ys = zip(*top)\n",
    "xs = np.arange(len(labels)) \n",
    "width = 1\n",
    "\n",
    "\n",
    "\n",
    "plt.bar(xs, ys, width, align='center',color=['pink', 'red', 'green', 'blue', 'cyan','yellow'])\n",
    "\n",
    "#plt.xticks('No.of Images') #Replace default x-ticks with xs, then replace xs with labels\n",
    "plt.yticks(ys)\n",
    "plt.xticks(xs, labels) #Replace default x-ticks with xs, then replace xs with labels\n",
    "\n",
    "\n",
    "plt.savefig('train_plot.png')"
   ]
  },
  {
   "cell_type": "code",
   "execution_count": 58,
   "id": "bfe57954",
   "metadata": {},
   "outputs": [],
   "source": [
    "train_file = open(class_names[0] +'.txt', 'w')\n",
    "\n",
    "for i in total_list[0]:\n",
    "  train_file.write(i[:-4])\n",
    "  train_file.write('\\n')\n",
    "train_file.close()"
   ]
  },
  {
   "cell_type": "code",
   "execution_count": 37,
   "id": "9e8ba835",
   "metadata": {},
   "outputs": [],
   "source": [
    "for cl_name in class_names:\n",
    "    train_file = open(cl_name +'.txt', 'w')\n",
    "    for j in range(len(total_list)):\n",
    "        for i in total_list[j]:\n",
    "          train_file.write(i)\n",
    "          train_file.write('\\n')"
   ]
  },
  {
   "cell_type": "code",
   "execution_count": 8,
   "id": "385179f9",
   "metadata": {},
   "outputs": [
    {
     "name": "stdout",
     "output_type": "stream",
     "text": [
      "TCK29494G_2524-4321-3036-4833.png\n"
     ]
    },
    {
     "data": {
      "application/vnd.jupyter.widget-view+json": {
       "model_id": "e4f8d034b70b4d229f0f55bd910ba166",
       "version_major": 2,
       "version_minor": 0
      },
      "text/plain": [
       "  0%|          | 0/4431 [00:00<?, ?it/s]"
      ]
     },
     "metadata": {},
     "output_type": "display_data"
    },
    {
     "name": "stdout",
     "output_type": "stream",
     "text": [
      "TCK29494G_2524-4321-3036-4833.png\n"
     ]
    },
    {
     "data": {
      "application/vnd.jupyter.widget-view+json": {
       "model_id": "96355c4917724283a10bcb7455050f2a",
       "version_major": 2,
       "version_minor": 0
      },
      "text/plain": [
       "  0%|          | 0/4431 [00:00<?, ?it/s]"
      ]
     },
     "metadata": {},
     "output_type": "display_data"
    },
    {
     "ename": "KeyboardInterrupt",
     "evalue": "",
     "output_type": "error",
     "traceback": [
      "\u001b[0;31m---------------------------------------------------------------------------\u001b[0m",
      "\u001b[0;31mKeyboardInterrupt\u001b[0m                         Traceback (most recent call last)",
      "\u001b[0;32m/tmp/ipykernel_27508/1700867637.py\u001b[0m in \u001b[0;36m<module>\u001b[0;34m\u001b[0m\n\u001b[1;32m     36\u001b[0m     \u001b[0;32mfor\u001b[0m \u001b[0mc\u001b[0m \u001b[0;32min\u001b[0m \u001b[0mtqdm\u001b[0m\u001b[0;34m(\u001b[0m\u001b[0mcl\u001b[0m\u001b[0;34m)\u001b[0m\u001b[0;34m:\u001b[0m\u001b[0;34m\u001b[0m\u001b[0;34m\u001b[0m\u001b[0m\n\u001b[1;32m     37\u001b[0m         \u001b[0mcl_img\u001b[0m \u001b[0;34m=\u001b[0m \u001b[0mplt\u001b[0m\u001b[0;34m.\u001b[0m\u001b[0mimread\u001b[0m\u001b[0;34m(\u001b[0m\u001b[0;34m'/home/sandesh/Desktop/Agriculture Vision/dataset/val/labels/'\u001b[0m\u001b[0;34m+\u001b[0m \u001b[0mstr\u001b[0m\u001b[0;34m(\u001b[0m\u001b[0mclass_names\u001b[0m\u001b[0;34m[\u001b[0m\u001b[0mcl_name\u001b[0m\u001b[0;34m]\u001b[0m\u001b[0;34m)\u001b[0m \u001b[0;34m+\u001b[0m\u001b[0;34m'/'\u001b[0m\u001b[0;34m+\u001b[0m\u001b[0mc\u001b[0m\u001b[0;34m)\u001b[0m\u001b[0;34m\u001b[0m\u001b[0;34m\u001b[0m\u001b[0m\n\u001b[0;32m---> 38\u001b[0;31m         \u001b[0;32mif\u001b[0m \u001b[0mlen\u001b[0m\u001b[0;34m(\u001b[0m\u001b[0mnp\u001b[0m\u001b[0;34m.\u001b[0m\u001b[0munique\u001b[0m\u001b[0;34m(\u001b[0m\u001b[0mcl_img\u001b[0m\u001b[0;34m)\u001b[0m\u001b[0;34m)\u001b[0m \u001b[0;34m==\u001b[0m \u001b[0;36m2\u001b[0m\u001b[0;34m:\u001b[0m\u001b[0;34m\u001b[0m\u001b[0;34m\u001b[0m\u001b[0m\n\u001b[0m\u001b[1;32m     39\u001b[0m                \u001b[0mtotal_list\u001b[0m\u001b[0;34m[\u001b[0m\u001b[0mcl_name\u001b[0m\u001b[0;34m]\u001b[0m\u001b[0;34m.\u001b[0m\u001b[0mappend\u001b[0m\u001b[0;34m(\u001b[0m\u001b[0mc\u001b[0m\u001b[0;34m)\u001b[0m\u001b[0;34m\u001b[0m\u001b[0;34m\u001b[0m\u001b[0m\n",
      "\u001b[0;32m<__array_function__ internals>\u001b[0m in \u001b[0;36munique\u001b[0;34m(*args, **kwargs)\u001b[0m\n",
      "\u001b[0;32m~/anaconda3/envs/tf2/lib/python3.7/site-packages/numpy/lib/arraysetops.py\u001b[0m in \u001b[0;36munique\u001b[0;34m(ar, return_index, return_inverse, return_counts, axis)\u001b[0m\n\u001b[1;32m    260\u001b[0m     \u001b[0mar\u001b[0m \u001b[0;34m=\u001b[0m \u001b[0mnp\u001b[0m\u001b[0;34m.\u001b[0m\u001b[0masanyarray\u001b[0m\u001b[0;34m(\u001b[0m\u001b[0mar\u001b[0m\u001b[0;34m)\u001b[0m\u001b[0;34m\u001b[0m\u001b[0;34m\u001b[0m\u001b[0m\n\u001b[1;32m    261\u001b[0m     \u001b[0;32mif\u001b[0m \u001b[0maxis\u001b[0m \u001b[0;32mis\u001b[0m \u001b[0;32mNone\u001b[0m\u001b[0;34m:\u001b[0m\u001b[0;34m\u001b[0m\u001b[0;34m\u001b[0m\u001b[0m\n\u001b[0;32m--> 262\u001b[0;31m         \u001b[0mret\u001b[0m \u001b[0;34m=\u001b[0m \u001b[0m_unique1d\u001b[0m\u001b[0;34m(\u001b[0m\u001b[0mar\u001b[0m\u001b[0;34m,\u001b[0m \u001b[0mreturn_index\u001b[0m\u001b[0;34m,\u001b[0m \u001b[0mreturn_inverse\u001b[0m\u001b[0;34m,\u001b[0m \u001b[0mreturn_counts\u001b[0m\u001b[0;34m)\u001b[0m\u001b[0;34m\u001b[0m\u001b[0;34m\u001b[0m\u001b[0m\n\u001b[0m\u001b[1;32m    263\u001b[0m         \u001b[0;32mreturn\u001b[0m \u001b[0m_unpack_tuple\u001b[0m\u001b[0;34m(\u001b[0m\u001b[0mret\u001b[0m\u001b[0;34m)\u001b[0m\u001b[0;34m\u001b[0m\u001b[0;34m\u001b[0m\u001b[0m\n\u001b[1;32m    264\u001b[0m \u001b[0;34m\u001b[0m\u001b[0m\n",
      "\u001b[0;32m~/anaconda3/envs/tf2/lib/python3.7/site-packages/numpy/lib/arraysetops.py\u001b[0m in \u001b[0;36m_unique1d\u001b[0;34m(ar, return_index, return_inverse, return_counts)\u001b[0m\n\u001b[1;32m    321\u001b[0m         \u001b[0maux\u001b[0m \u001b[0;34m=\u001b[0m \u001b[0mar\u001b[0m\u001b[0;34m[\u001b[0m\u001b[0mperm\u001b[0m\u001b[0;34m]\u001b[0m\u001b[0;34m\u001b[0m\u001b[0;34m\u001b[0m\u001b[0m\n\u001b[1;32m    322\u001b[0m     \u001b[0;32melse\u001b[0m\u001b[0;34m:\u001b[0m\u001b[0;34m\u001b[0m\u001b[0;34m\u001b[0m\u001b[0m\n\u001b[0;32m--> 323\u001b[0;31m         \u001b[0mar\u001b[0m\u001b[0;34m.\u001b[0m\u001b[0msort\u001b[0m\u001b[0;34m(\u001b[0m\u001b[0;34m)\u001b[0m\u001b[0;34m\u001b[0m\u001b[0;34m\u001b[0m\u001b[0m\n\u001b[0m\u001b[1;32m    324\u001b[0m         \u001b[0maux\u001b[0m \u001b[0;34m=\u001b[0m \u001b[0mar\u001b[0m\u001b[0;34m\u001b[0m\u001b[0;34m\u001b[0m\u001b[0m\n\u001b[1;32m    325\u001b[0m     \u001b[0mmask\u001b[0m \u001b[0;34m=\u001b[0m \u001b[0mnp\u001b[0m\u001b[0;34m.\u001b[0m\u001b[0mempty\u001b[0m\u001b[0;34m(\u001b[0m\u001b[0maux\u001b[0m\u001b[0;34m.\u001b[0m\u001b[0mshape\u001b[0m\u001b[0;34m,\u001b[0m \u001b[0mdtype\u001b[0m\u001b[0;34m=\u001b[0m\u001b[0mnp\u001b[0m\u001b[0;34m.\u001b[0m\u001b[0mbool_\u001b[0m\u001b[0;34m)\u001b[0m\u001b[0;34m\u001b[0m\u001b[0;34m\u001b[0m\u001b[0m\n",
      "\u001b[0;31mKeyboardInterrupt\u001b[0m: "
     ]
    }
   ],
   "source": [
    "import os\n",
    "import numpy as np\n",
    "import matplotlib.pyplot as plt\n",
    "from tqdm.notebook import tqdm\n",
    "\n",
    "'''\n",
    "2021\n",
    "nutrient_deficiency = []\n",
    "endrow = []\n",
    "water = []\n",
    "weed_cluster = []\n",
    "double_plant = []\n",
    "waterway = []\n",
    "planter_skip = []\n",
    "#boundaries = []\n",
    "storm_damage = []\n",
    "drydown = []\n",
    "'''\n",
    "\n",
    "#Create labels for traning.txt \n",
    "\n",
    "weed_cluster = []\n",
    "double_plant = []\n",
    "waterway = []\n",
    "planter_skip = []\n",
    "cloud_shadow = []\n",
    "standing_water = []\n",
    "\n",
    "total_list = [weed_cluster,double_plant,waterway ,planter_skip  , cloud_shadow,standing_water ]\n",
    "\n",
    "class_names = os.listdir('/home/sandesh/Desktop/Agriculture Vision/dataset/val/labels/')\n",
    "\n",
    "for cl_name in range(len(class_names)):\n",
    "    cl = os.listdir('/home/sandesh/Desktop/Agriculture Vision/dataset/val/labels/'+str(class_names[cl_name])+'/')\n",
    "    print(cl[0])\n",
    "    for c in tqdm(cl):\n",
    "        cl_img = plt.imread('/home/sandesh/Desktop/Agriculture Vision/dataset/val/labels/'+ str(class_names[cl_name]) +'/'+c)\n",
    "        if len(np.unique(cl_img)) == 2:\n",
    "               total_list[cl_name].append(c)"
   ]
  },
  {
   "cell_type": "code",
   "execution_count": null,
   "id": "1812ed64",
   "metadata": {},
   "outputs": [],
   "source": [
    "total_list['waterway']"
   ]
  },
  {
   "cell_type": "code",
   "execution_count": null,
   "id": "0358e4a8",
   "metadata": {},
   "outputs": [],
   "source": [
    "import os\n",
    "import numpy as np\n",
    "import matplotlib.pyplot as plt\n",
    "from tqdm.notebook import tqdm\n",
    "\n",
    "\n",
    "nutrient_deficiency = []\n",
    "endrow = []\n",
    "water = []\n",
    "weed_cluster = []\n",
    "double_plant = []\n",
    "waterway = []\n",
    "planter_skip = []\n",
    "#boundaries = []\n",
    "storm_damage = []\n",
    "drydown = []\n",
    "\n",
    "\n",
    "total_list = [nutrient_deficiency,endrow,water,weed_cluster , double_plant,waterway,planter_skip, storm_damage,drydown]\n",
    "\n",
    "class_names = os.listdir('val/labels/')\n",
    "\n",
    "for cl_name in range(len(class_names)):\n",
    "    cl = os.listdir('val/labels/'+str(class_names[cl_name])+'/')\n",
    "    #print(cl[0])\n",
    "    for c in tqdm(cl):\n",
    "        cl_img = plt.imread('val/labels/'+ str(class_names[cl_name]) +'/'+c)\n",
    "        if len(np.unique(cl_img)) == 2:\n",
    "               total_list[cl_name].append(c)\n",
    "           \n"
   ]
  },
  {
   "cell_type": "code",
   "execution_count": null,
   "id": "5b058989",
   "metadata": {},
   "outputs": [],
   "source": [
    "print(len(waterway  ))"
   ]
  },
  {
   "cell_type": "code",
   "execution_count": null,
   "id": "74353f04",
   "metadata": {},
   "outputs": [],
   "source": [
    "for cl_name in total_list:\n",
    "    print(len(cl_name))"
   ]
  },
  {
   "cell_type": "code",
   "execution_count": null,
   "id": "b39e8df1",
   "metadata": {},
   "outputs": [],
   "source": [
    "\n",
    "train_file = open(class_names[9] +'_val.txt', 'w')\n",
    "\n",
    "for i in total_list[8]:\n",
    "  train_file.write(i[:-4])\n",
    "  train_file.write('\\n')\n",
    "train_file.close()"
   ]
  },
  {
   "cell_type": "code",
   "execution_count": null,
   "id": "9a0f333b",
   "metadata": {},
   "outputs": [],
   "source": [
    "\n",
    "for cl_name in class_names:\n",
    "    train_file = open(cl_name +'_2021.txt', 'w')\n",
    "    for j in range(len(total_list)):\n",
    "        for i in total_list[j]:\n",
    "          train_file.write(i)\n",
    "          train_file.write('\\n')\n",
    "        #train_file.close()"
   ]
  },
  {
   "cell_type": "code",
   "execution_count": null,
   "id": "6d2a0d67",
   "metadata": {},
   "outputs": [],
   "source": [
    "ls"
   ]
  },
  {
   "cell_type": "code",
   "execution_count": null,
   "id": "a80185d9",
   "metadata": {},
   "outputs": [],
   "source": [
    "print(len(double_plant))"
   ]
  },
  {
   "cell_type": "code",
   "execution_count": null,
   "id": "f897a11a",
   "metadata": {},
   "outputs": [],
   "source": [
    "img = plt.imread('val/labels/double_plant/'+double_plant[600])\n",
    "plt.imshow(img)"
   ]
  },
  {
   "cell_type": "code",
   "execution_count": null,
   "id": "1f421e73",
   "metadata": {},
   "outputs": [],
   "source": [
    "ls"
   ]
  },
  {
   "cell_type": "code",
   "execution_count": null,
   "id": "5c22c065",
   "metadata": {},
   "outputs": [],
   "source": []
  },
  {
   "cell_type": "code",
   "execution_count": null,
   "id": "a39bdef9",
   "metadata": {},
   "outputs": [],
   "source": []
  }
 ],
 "metadata": {
  "kernelspec": {
   "display_name": "Python 3 (ipykernel)",
   "language": "python",
   "name": "python3"
  },
  "language_info": {
   "codemirror_mode": {
    "name": "ipython",
    "version": 3
   },
   "file_extension": ".py",
   "mimetype": "text/x-python",
   "name": "python",
   "nbconvert_exporter": "python",
   "pygments_lexer": "ipython3",
   "version": "3.7.10"
  }
 },
 "nbformat": 4,
 "nbformat_minor": 5
}
